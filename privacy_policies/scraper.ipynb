{
 "cells": [
  {
   "cell_type": "code",
   "execution_count": 1,
   "id": "5f1f3b89",
   "metadata": {},
   "outputs": [],
   "source": [
    "import requests\n",
    "from bs4 import BeautifulSoup\n",
    "import re\n"
   ]
  },
  {
   "cell_type": "code",
   "execution_count": 18,
   "id": "4ea3293d",
   "metadata": {},
   "outputs": [],
   "source": [
    "# Privacy policy\n",
    "url = \"https://policies.google.com/privacy/archive/19990609?hl=en-US\"\n",
    "# Local filename to save text\n",
    "output_file = \"/Users/andrewrodriguez/Desktop/compsci1050/privacy_policies/google_historical/06_09_1999.txt\""
   ]
  },
  {
   "cell_type": "code",
   "execution_count": 19,
   "id": "084d8bca",
   "metadata": {},
   "outputs": [
    {
     "name": "stdout",
     "output_type": "stream",
     "text": [
      "Saved 828 words from https://policies.google.com/privacy/archive/19990609?hl=en-US to /Users/andrewrodriguez/Desktop/compsci1050/privacy_policies/google_historical/06_09_1999.txt\n"
     ]
    }
   ],
   "source": [
    "response = requests.get(url)\n",
    "if response.status_code != 200:\n",
    "    raise Exception(f\"Failed to fetch page: {response.status_code}\")\n",
    "\n",
    "soup = BeautifulSoup(response.text, \"html.parser\")\n",
    "\n",
    "for script in soup([\"script\", \"style\", \"noscript\"]):\n",
    "    script.extract()\n",
    "\n",
    "text = soup.get_text(separator=\" \")\n",
    "\n",
    "text = re.sub(r\"\\s+\", \" \", text).strip()\n",
    "\n",
    "with open(output_file, \"w\", encoding=\"utf-8\") as f:\n",
    "    f.write(text)\n",
    "\n",
    "print(f\"Saved {len(text.split())} words from {url} to {output_file}\")"
   ]
  },
  {
   "cell_type": "code",
   "execution_count": null,
   "id": "862ae032",
   "metadata": {},
   "outputs": [],
   "source": []
  }
 ],
 "metadata": {
  "kernelspec": {
   "display_name": "venv",
   "language": "python",
   "name": "python3"
  },
  "language_info": {
   "codemirror_mode": {
    "name": "ipython",
    "version": 3
   },
   "file_extension": ".py",
   "mimetype": "text/x-python",
   "name": "python",
   "nbconvert_exporter": "python",
   "pygments_lexer": "ipython3",
   "version": "3.12.4"
  }
 },
 "nbformat": 4,
 "nbformat_minor": 5
}
